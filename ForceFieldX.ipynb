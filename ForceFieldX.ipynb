{
 "cells": [
  {
   "cell_type": "code",
   "execution_count": null,
   "metadata": {
    "colab": {},
    "colab_type": "code",
    "id": "vkV_FZQLfHol"
   },
   "outputs": [],
   "source": [
    "// Download and install Force Field X.\n",
    "try {\n",
    "    System.out.print(\" Downloading ffx-1.0.0-beta-bin.tar.gz ...\");\n",
    "    var pb = new ProcessBuilder(\"wget\", \"https://ffx.biochem.uiowa.edu/ffx-1.0.0-beta-bin.tar.gz\");\n",
    "    var proc = pb.inheritIO().start();\n",
    "    proc.waitFor();\n",
    "    System.out.println(\" Done.\");\n",
    "    \n",
    "    System.out.print(\" Extracting  ffx-1.0.0-beta-bin.tar.gz ...\");\n",
    "    pb = new ProcessBuilder(\"tar\", \"xzf\", \"ffx-1.0.0-beta-bin.tar.gz\");\n",
    "    proc = pb.inheritIO().start();\n",
    "    proc.waitFor();\n",
    "    System.out.println(\" Done.\");   \n",
    "} catch (Exception e) {\n",
    "    System.out.println(\" Exception installing Force Field X: \" + e.toString());\n",
    "}\n",
    "\n",
    "// Add Force Field X to the classpath\n",
    "%jars ffx-1.0.0-beta/bin/ffx-all.jar"
   ]
  },
  {
   "cell_type": "code",
   "execution_count": null,
   "metadata": {
    "colab": {},
    "colab_type": "code",
    "id": "xMwudbNPfL_a"
   },
   "outputs": [],
   "source": [
    "// Choose a PDB file from the Protein Databank.\n",
    "import org.apache.commons.io.IOUtils;\n",
    "\n",
    "var pdbID = \"2jof.pdb\";\n",
    "try {\n",
    "    System.out.print(\" Downloading \" + pdbID + \" ...\");\n",
    "    var rcsb = \"https://files.rcsb.org/download/\";\n",
    "    var pb = new ProcessBuilder(\"wget\", rcsb + pdbID);\n",
    "    var proc = pb.start();\n",
    "    proc.waitFor();\n",
    "    System.out.println(\" Done.\");\n",
    "    System.out.println(IOUtils.toString(proc.getInputStream()));\n",
    "    System.out.println(IOUtils.toString(proc.getErrorStream()));\n",
    "} catch (Exception e) {\n",
    "    System.out.println(\" Exception downloading PDB file: \" + e.toString());\n",
    "}\n",
    "    "
   ]
  },
  {
   "cell_type": "code",
   "execution_count": null,
   "metadata": {
    "colab": {},
    "colab_type": "code",
    "id": "JKWDA9fJ-Vny"
   },
   "outputs": [],
   "source": [
    "// Execute the Force Field X energy command.\n",
    "try {\n",
    "    System.out.print(\" Running Force Field X on \" + pdbID + \" ...\");\n",
    "    var pb = new ProcessBuilder(\"ffx-1.0.0-beta/bin/ffxc\", \"Energy\", pdbID);\n",
    "    var proc = pb.start();\n",
    "    proc.waitFor();\n",
    "    System.out.println(\" Done.\");\n",
    "    System.out.println(IOUtils.toString(proc.getInputStream()));\n",
    "    System.out.println(IOUtils.toString(proc.getErrorStream()));\n",
    "} catch (Exception e) {\n",
    "    System.out.println(\" Exception running Force Field X: \" + e.toString());\n",
    "}"
   ]
  },
  {
   "cell_type": "code",
   "execution_count": null,
   "metadata": {},
   "outputs": [],
   "source": []
  }
 ],
 "metadata": {
  "accelerator": "GPU",
  "colab": {
   "authorship_tag": "ABX9TyPAJdhPTSc53Z0lSjISlRNy",
   "collapsed_sections": [],
   "name": "ForceFieldX.ipynb",
   "private_outputs": true,
   "provenance": [
    {
     "file_id": "1qtAt-Q0U1GliJnVvTJ-fFgr4NsoIo_HZ",
     "timestamp": 1587655148852
    }
   ]
  },
  "kernelspec": {
   "display_name": "Java",
   "language": "java",
   "name": "java"
  },
  "language_info": {
   "codemirror_mode": "java",
   "file_extension": ".jshell",
   "mimetype": "text/x-java-source",
   "name": "Java",
   "pygments_lexer": "java",
   "version": "11.0.3+7"
  }
 },
 "nbformat": 4,
 "nbformat_minor": 1
}
